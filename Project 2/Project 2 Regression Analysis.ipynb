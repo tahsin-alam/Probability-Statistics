{
 "cells": [
  {
   "cell_type": "code",
   "execution_count": 1,
   "metadata": {},
   "outputs": [
    {
     "name": "stdout",
     "output_type": "stream",
     "text": [
      "HASH = 56A78E6D6F05A68686459468895C8F06\n",
      "Four parts:\n",
      "56A78E6D\n",
      "6F05A686\n",
      "86459468\n",
      "895C8F06\n"
     ]
    }
   ],
   "source": [
    "H =\"56A78E6D6F05A68686459468895C8F06\"\n",
    "print(\"HASH =\",H)\n",
    "print(\"Four parts:\")\n",
    "print( H[0:8])\n",
    "print(H[8:16])\n",
    "print(H[16:24])\n",
    "print(H[24:32])"
   ]
  },
  {
   "cell_type": "code",
   "execution_count": 2,
   "metadata": {},
   "outputs": [
    {
     "name": "stdout",
     "output_type": "stream",
     "text": [
      "intersept β₀= 0.6769884143383188\n"
     ]
    }
   ],
   "source": [
    "b0=\"56A78E6D/895C8F06\" # 56A78E6D=1453821549, 7FFFFFFF=2147483647\n",
    "b0=1453821549/2147483647\n",
    "print(\"intersept β₀=\",b0)"
   ]
  },
  {
   "cell_type": "code",
   "execution_count": 3,
   "metadata": {
    "scrolled": true
   },
   "outputs": [
    {
     "name": "stdout",
     "output_type": "stream",
     "text": [
      " slope, β₁= 0.8673599394351988\n"
     ]
    }
   ],
   "source": [
    "b1=\"6F05A686/7FFFFFFF\"\n",
    "b1=1862641286/2147483647\n",
    "print(\" slope, β₁=\",b1)\n"
   ]
  },
  {
   "cell_type": "code",
   "execution_count": 4,
   "metadata": {},
   "outputs": [
    {
     "name": "stdout",
     "output_type": "stream",
     "text": [
      "Random number generator seed value: 86459468\n"
     ]
    }
   ],
   "source": [
    "print(\"Random number generator seed value: 86459468\")\n"
   ]
  },
  {
   "cell_type": "code",
   "execution_count": 5,
   "metadata": {},
   "outputs": [
    {
     "name": "stdout",
     "output_type": "stream",
     "text": [
      "standard deviation σₑ= 1.073137167409592\n"
     ]
    }
   ],
   "source": [
    "stddev=\"895C8F06/7FFFFFFF\" # 895C8F06=2304544518\n",
    "stddev=2304544518/2147483647\n",
    "print(\"standard deviation σₑ=\",stddev)\n"
   ]
  },
  {
   "cell_type": "code",
   "execution_count": 6,
   "metadata": {},
   "outputs": [
    {
     "name": "stdout",
     "output_type": "stream",
     "text": [
      "Population size: 100\n"
     ]
    }
   ],
   "source": [
    "n = 100\n",
    "print(\"Population size:\", n)"
   ]
  },
  {
   "cell_type": "code",
   "execution_count": 7,
   "metadata": {
    "scrolled": true
   },
   "outputs": [
    {
     "name": "stdout",
     "output_type": "stream",
     "text": [
      "Predictors: [ 0.75935688  0.97164309  0.60174187  0.1628279   0.03914742  0.43385061\n",
      "  0.81683472  0.52290488  0.66458728  0.78740283  0.68739841  0.54361862\n",
      "  0.76734154  0.96235792  0.45685664  0.40571089  0.54112995  0.01174162\n",
      "  0.46868921  0.79117279  0.62558308  0.04021772  0.21693604  0.84560746\n",
      "  0.76939935  0.15797588  0.07150331  0.34856132  0.71756574  0.93960449\n",
      "  0.18565904  0.89088097  0.72221526  0.01223057  0.99097945  0.67485857\n",
      "  0.22088049  0.34685693  0.17292248  0.0364026   0.52266691  0.97199479\n",
      "  0.31873483  0.48406105  0.59747196  0.07811448  0.15622616  0.96906549\n",
      "  0.17265809  0.0184472   0.42111586  0.12098735  0.35437953  0.78651734\n",
      "  0.72944772  0.00598579  0.27213558  0.05143405  0.30285406  0.55467052\n",
      "  0.14180774  0.89852584  0.17595     0.37775609  0.42288997  0.8596258\n",
      "  0.65514684  0.86712788  0.75518729  0.67500925  0.37407115  0.87393565\n",
      "  0.16670983  0.35913438  0.48904314  0.09069532  0.61117955  0.35040709\n",
      "  0.78961583  0.26612543  0.46553045  0.09451631  0.75608351  0.85058119\n",
      "  0.48812344  0.0951247   0.10733605  0.35859052  0.30261445  0.12269738\n",
      "  0.94079119  0.99474843  0.6278918   0.95656005  0.49215686  0.45176754\n",
      "  0.85369707  0.36960166  0.94776158  0.98955026]\n"
     ]
    }
   ],
   "source": [
    " import numpy as np\n",
    "np.random.seed(86459468)\n",
    "xs=np.random.rand(100)\n",
    "print(\"Predictors:\",xs)"
   ]
  },
  {
   "cell_type": "code",
   "execution_count": 58,
   "metadata": {
    "scrolled": true
   },
   "outputs": [
    {
     "name": "stdout",
     "output_type": "stream",
     "text": [
      "Responses: [ 2.07094931  1.61922873  0.86987869  0.32117058  1.17874938 -0.02217831\n",
      "  1.05671391  1.9755661   2.35522792  0.97797911  1.95344458  0.19873833\n",
      "  1.08381693  1.14815062  3.61579618 -0.70652771 -0.49027333 -0.03103092\n",
      "  2.17745506  1.81663628  1.69580879  0.51706064 -1.07879235  2.22038337\n",
      " -0.33573748  2.46587546 -0.70616864  0.50062038  2.39433455  1.15236439\n",
      "  1.19631347 -0.17733284  0.99339252  0.11925699  1.64937987  0.95873171\n",
      " -0.02396834 -0.69968876  0.46605829  0.29553659  2.59189879  0.72608866\n",
      "  2.06598864  1.92486304  1.34650551 -0.76846542  0.96671692  0.82316727\n",
      " -0.70424326  0.37734207  2.16280926 -1.07746155  0.1153737  -1.71657019\n",
      "  1.19959151  0.56219703  0.13334967  0.93947586  3.13843819  0.40933563\n",
      "  1.0050806   1.96382097  2.93747544  2.88167674  1.69435937  1.37912194\n",
      "  0.65934293  2.27417184 -0.03179414  0.30437726  3.68707078  2.54391203\n",
      "  2.46599842  0.14245843  0.5925456   0.22717716  1.69950686  1.61308617\n",
      "  1.97338654  0.46577359  1.07740173  0.46478385  0.58726341  1.44339971\n",
      "  0.73023105  1.5286837   0.88242948  0.7661545   1.38712257  0.10897747\n",
      "  1.80431789  1.30129639 -1.18710465  0.8527679   0.37639552 -0.04301314\n",
      "  2.79068322  0.55452118  0.67606681  1.62913826]\n"
     ]
    }
   ],
   "source": [
    "ys=b0+b1*xs+(np.random.normal (0,stddev,100))\n",
    "print(\"Responses:\",ys)"
   ]
  },
  {
   "cell_type": "code",
   "execution_count": 9,
   "metadata": {
    "collapsed": true,
    "scrolled": true
   },
   "outputs": [],
   "source": [
    "import numpy as np\n",
    "def G(x):\n",
    "    result=b0+b1*np.array(x)\n",
    "    return result\n"
   ]
  },
  {
   "cell_type": "code",
   "execution_count": 10,
   "metadata": {
    "collapsed": true,
    "scrolled": true
   },
   "outputs": [],
   "source": [
    "# def g(x):\n",
    "#     res=b0 + b1*x\n",
    "#     print(res)\n",
    "# g(x)\n",
    "# max=g(x)"
   ]
  },
  {
   "cell_type": "code",
   "execution_count": 11,
   "metadata": {
    "collapsed": true
   },
   "outputs": [],
   "source": [
    "%matplotlib inline\n",
    "import matplotlib.pyplot as plt\n",
    "import seaborn as sns; sns.set()\n",
    "import numpy as np"
   ]
  },
  {
   "cell_type": "code",
   "execution_count": 12,
   "metadata": {},
   "outputs": [
    {
     "data": {
      "image/png": "[encoded data removed]",
      "text/plain": [
       "<matplotlib.figure.Figure at 0x20c27fb7a20>"
      ]
     },
     "metadata": {},
     "output_type": "display_data"
    }
   ],
   "source": [
    "from sklearn.linear_model import LinearRegression\n",
    "model = LinearRegression(fit_intercept=True)\n",
    "                         \n",
    "plt.scatter(xs, ys,color='black',marker=\"*\")\n",
    "plt.plot(xs,G(xs),color='blue',linewidth=3)\n",
    "plt.xlabel(['X'])\n",
    "plt.ylabel(['Y'])\n",
    "plt.title(\"Population & linear regression\")\n",
    "\n",
    "plt.show()"
   ]
  },
  {
   "cell_type": "code",
   "execution_count": 13,
   "metadata": {},
   "outputs": [
    {
     "name": "stdout",
     "output_type": "stream",
     "text": [
      "Sample:\n",
      "x= [ 0.78740283  0.79117279  0.93960449  0.0364026   0.0184472   0.55467052\n",
      "  0.67500925  0.26612543  0.12269738  0.98955026]\n",
      "y= [ 0.60481918  0.23033616  1.11636605  0.66399585  0.58358083  1.11207168\n",
      "  0.52614468  0.70000798  2.59548246  0.49788883]\n"
     ]
    }
   ],
   "source": [
    "x=xs[9::10]#start printing from every 10th elements from the list.\n",
    "y=ys[9::10]\n",
    "print(\"Sample:\")\n",
    "print(\"x=\",x)\n",
    "print(\"y=\",y)"
   ]
  },
  {
   "cell_type": "code",
   "execution_count": 14,
   "metadata": {
    "collapsed": true
   },
   "outputs": [],
   "source": [
    "%matplotlib inline\n",
    "import matplotlib.pyplot as plt\n",
    "import seaborn as sns; sns.set()\n",
    "import numpy as np"
   ]
  },
  {
   "cell_type": "code",
   "execution_count": 15,
   "metadata": {},
   "outputs": [
    {
     "data": {
      "image/png": "[encoded data removed]",
      "text/plain": [
       "<matplotlib.figure.Figure at 0x20c21c3d7b8>"
      ]
     },
     "metadata": {},
     "output_type": "display_data"
    }
   ],
   "source": [
    "from sklearn.linear_model import LinearRegression\n",
    "model = LinearRegression(fit_intercept=True)\n",
    "plt.scatter(x, y,color='black',marker=\"*\")\n",
    "plt.plot(x, G(x),color='blue',linewidth=3)\n",
    "plt.xlabel(['X'])\n",
    "plt.ylabel(['Y'])\n",
    "plt.title(\"Sample of Population & population regression model\")\n",
    "\n",
    "plt.show()"
   ]
  },
  {
   "cell_type": "code",
   "execution_count": 16,
   "metadata": {},
   "outputs": [
    {
     "name": "stdout",
     "output_type": "stream",
     "text": [
      "n= 10\n"
     ]
    }
   ],
   "source": [
    "n=len(x)\n",
    "print(\"n=\",n)"
   ]
  },
  {
   "cell_type": "code",
   "execution_count": 17,
   "metadata": {},
   "outputs": [
    {
     "name": "stdout",
     "output_type": "stream",
     "text": [
      "xm= 0.518108274886\n"
     ]
    }
   ],
   "source": [
    "xm =np.mean(x)\n",
    "print(\"xm=\",xm)"
   ]
  },
  {
   "cell_type": "code",
   "execution_count": 52,
   "metadata": {},
   "outputs": [
    {
     "name": "stdout",
     "output_type": "stream",
     "text": [
      "ym= 0.863069367875\n"
     ]
    }
   ],
   "source": [
    "ym=np.mean(y)\n",
    "print(\"ym=\",ym)"
   ]
  },
  {
   "cell_type": "code",
   "execution_count": 19,
   "metadata": {},
   "outputs": [
    {
     "name": "stdout",
     "output_type": "stream",
     "text": [
      "1.27450178913\n"
     ]
    }
   ],
   "source": [
    "Sxx = 0\n",
    "for i in range (0,n):\n",
    "    Sxx = Sxx + (pow((x[i]-xm),2))\n",
    "print(Sxx)\n"
   ]
  },
  {
   "cell_type": "code",
   "execution_count": 20,
   "metadata": {},
   "outputs": [
    {
     "name": "stdout",
     "output_type": "stream",
     "text": [
      "3.98566913649\n"
     ]
    }
   ],
   "source": [
    "Syy = 0\n",
    "for i in range (0,n):\n",
    "    Syy = Syy + (pow((y[i]-ym),2))\n",
    "print(Syy)"
   ]
  },
  {
   "cell_type": "code",
   "execution_count": 21,
   "metadata": {},
   "outputs": [
    {
     "name": "stdout",
     "output_type": "stream",
     "text": [
      "-0.759861868273\n"
     ]
    }
   ],
   "source": [
    "Sxy = 0\n",
    "for i in range (0,n):\n",
    "    Sxy = Sxy + ((x[i]-xm)*(y[i]-ym))\n",
    "print(Sxy)"
   ]
  },
  {
   "cell_type": "code",
   "execution_count": 22,
   "metadata": {},
   "outputs": [
    {
     "name": "stdout",
     "output_type": "stream",
     "text": [
      "SS_TOT= 3.98566913649\n"
     ]
    }
   ],
   "source": [
    "SS_TOT=Syy\n",
    "print(\"SS_TOT=\",SS_TOT)"
   ]
  },
  {
   "cell_type": "code",
   "execution_count": 23,
   "metadata": {},
   "outputs": [
    {
     "name": "stdout",
     "output_type": "stream",
     "text": [
      "SS_REG= 0.958824601636\n"
     ]
    }
   ],
   "source": [
    "SS_REG=b1*b1*Sxx\n",
    "print(\"SS_REG=\",SS_REG)"
   ]
  },
  {
   "cell_type": "code",
   "execution_count": 24,
   "metadata": {},
   "outputs": [
    {
     "name": "stdout",
     "output_type": "stream",
     "text": [
      "SS_ERR= 3.02684453485\n"
     ]
    }
   ],
   "source": [
    "SS_ERR = SS_TOT - SS_REG\n",
    "print(\"SS_ERR=\",SS_ERR)"
   ]
  },
  {
   "cell_type": "code",
   "execution_count": 25,
   "metadata": {},
   "outputs": [
    {
     "name": "stdout",
     "output_type": "stream",
     "text": [
      "df_TOT= 9\n"
     ]
    }
   ],
   "source": [
    "df_TOT = n-1\n",
    "print(\"df_TOT=\",df_TOT)"
   ]
  },
  {
   "cell_type": "code",
   "execution_count": 26,
   "metadata": {
    "collapsed": true
   },
   "outputs": [],
   "source": [
    "df_REG = 1"
   ]
  },
  {
   "cell_type": "code",
   "execution_count": 27,
   "metadata": {},
   "outputs": [
    {
     "name": "stdout",
     "output_type": "stream",
     "text": [
      "df_ERR= 8\n"
     ]
    }
   ],
   "source": [
    "df_ERR = df_TOT - df_REG\n",
    "print(\"df_ERR=\",df_ERR)"
   ]
  },
  {
   "cell_type": "code",
   "execution_count": 28,
   "metadata": {},
   "outputs": [
    {
     "name": "stdout",
     "output_type": "stream",
     "text": [
      "MSR= 0.958824601636\n"
     ]
    }
   ],
   "source": [
    "MSR = SS_REG/df_REG\n",
    "print(\"MSR=\",MSR)"
   ]
  },
  {
   "cell_type": "code",
   "execution_count": 29,
   "metadata": {},
   "outputs": [
    {
     "name": "stdout",
     "output_type": "stream",
     "text": [
      "MSE= 0.378355566856\n"
     ]
    }
   ],
   "source": [
    "MSE = SS_ERR/df_ERR\n",
    "print(\"MSE=\",MSE)"
   ]
  },
  {
   "cell_type": "code",
   "execution_count": 30,
   "metadata": {},
   "outputs": [
    {
     "name": "stdout",
     "output_type": "stream",
     "text": [
      "F= 2.53418922735\n"
     ]
    }
   ],
   "source": [
    "F = MSR/MSE\n",
    "print(\"F=\",F)"
   ]
  },
  {
   "cell_type": "code",
   "execution_count": 31,
   "metadata": {},
   "outputs": [
    {
     "name": "stdout",
     "output_type": "stream",
     "text": [
      "Source\t\tSS\t\tDF\t\tMS\t\tF-score\n",
      "Model       \t3.98566913649\t9\t  \t0.958824601636\t2.53418922735\n",
      "Error     \t0.958824601636\t1\t  \t0.378355566856\t  -\n",
      "Total    \t3.02684453485\t8\t         -\t          -\n"
     ]
    }
   ],
   "source": [
    "#From Anova Table\n",
    "print(\"Source\\t\\tSS\\t\\tDF\\t\\tMS\\t\\tF-score\")\n",
    "print(\"Model       \",SS_TOT,df_TOT,\"  \",MSR,F,sep=\"\\t\")\n",
    "print(\"Error     \",SS_REG,df_REG,\"  \",MSE,\"  -\",sep=\"\\t\")\n",
    "print(\"Total    \",SS_ERR,df_ERR,\"         -\",\"          -\",sep=\"\\t\")\n"
   ]
  },
  {
   "cell_type": "code",
   "execution_count": 32,
   "metadata": {},
   "outputs": [
    {
     "name": "stdout",
     "output_type": "stream",
     "text": [
      "R square= 0.240568037336\n"
     ]
    }
   ],
   "source": [
    "R_2 = SS_REG/SS_TOT\n",
    "print(\"R square=\",R_2)"
   ]
  },
  {
   "cell_type": "code",
   "execution_count": 33,
   "metadata": {
    "collapsed": true
   },
   "outputs": [],
   "source": [
    "#CI for the slope"
   ]
  },
  {
   "cell_type": "code",
   "execution_count": 34,
   "metadata": {
    "collapsed": true
   },
   "outputs": [],
   "source": [
    "α = 0.05 # confidence level"
   ]
  },
  {
   "cell_type": "code",
   "execution_count": 35,
   "metadata": {
    "collapsed": true
   },
   "outputs": [],
   "source": [
    "ta=2.306 #critical t score from t distribution table with df and alpha value."
   ]
  },
  {
   "cell_type": "code",
   "execution_count": 36,
   "metadata": {},
   "outputs": [
    {
     "name": "stdout",
     "output_type": "stream",
     "text": [
      "0.544853618377\n"
     ]
    }
   ],
   "source": [
    "s2 = MSE # Regression variance\n",
    "σ_b1 = np.sqrt(s2/Sxx)\n",
    "print(σ_b1)"
   ]
  },
  {
   "cell_type": "code",
   "execution_count": 37,
   "metadata": {},
   "outputs": [
    {
     "name": "stdout",
     "output_type": "stream",
     "text": [
      "(-0.3890725045412774, 2.1237923834116752)\n"
     ]
    }
   ],
   "source": [
    "CI_b1 = (b1-ta*σ_b1, b1+ta*σ_b1)\n",
    "print(CI_b1)"
   ]
  },
  {
   "cell_type": "code",
   "execution_count": 38,
   "metadata": {},
   "outputs": [
    {
     "name": "stdout",
     "output_type": "stream",
     "text": [
      "F_anova= 2.53418922735\n"
     ]
    }
   ],
   "source": [
    "#Anova F test\n",
    "k=1\n",
    "F_anova=(R_2/k)/((1-R_2)/(n-k-1))\n",
    "print(\"F_anova=\",F_anova)\n"
   ]
  },
  {
   "cell_type": "code",
   "execution_count": 39,
   "metadata": {
    "collapsed": true
   },
   "outputs": [],
   "source": [
    "#Confidence interval for the mean of responses\n"
   ]
  },
  {
   "cell_type": "code",
   "execution_count": 40,
   "metadata": {
    "collapsed": true
   },
   "outputs": [],
   "source": [
    "ta=2.306\n",
    "α = 0.05 # confidence level"
   ]
  },
  {
   "cell_type": "code",
   "execution_count": 41,
   "metadata": {},
   "outputs": [
    {
     "name": "stdout",
     "output_type": "stream",
     "text": [
      "2.4117082932087164\n"
     ]
    }
   ],
   "source": [
    "xe=2#some predictor value\n",
    "ye=b0+b1*xe\n",
    "print(ye)\n"
   ]
  },
  {
   "cell_type": "code",
   "execution_count": 42,
   "metadata": {},
   "outputs": [
    {
     "name": "stdout",
     "output_type": "stream",
     "text": [
      "0.830513717316\n"
     ]
    }
   ],
   "source": [
    "σ_μe= np.sqrt(s2*(1/n + (xe-xm)*(xe-xm)/Sxx))\n",
    "print(σ_μe)"
   ]
  },
  {
   "cell_type": "code",
   "execution_count": 43,
   "metadata": {},
   "outputs": [
    {
     "name": "stdout",
     "output_type": "stream",
     "text": [
      "1.91516463213\n"
     ]
    }
   ],
   "source": [
    "ME_ye = ta*σ_μe\n",
    "print(ME_ye)"
   ]
  },
  {
   "cell_type": "code",
   "execution_count": 44,
   "metadata": {},
   "outputs": [
    {
     "name": "stdout",
     "output_type": "stream",
     "text": [
      "(0.49654366107756776, 4.326872925339865)\n"
     ]
    }
   ],
   "source": [
    "CI_ye = (max(0,ye - ME_ye), ye + ME_ye)\n",
    "print(CI_ye)"
   ]
  },
  {
   "cell_type": "code",
   "execution_count": null,
   "metadata": {
    "collapsed": true
   },
   "outputs": [],
   "source": []
  }
 ],
 "metadata": {
  "kernelspec": {
   "display_name": "Python 3",
   "language": "python",
   "name": "python3"
  },
  "language_info": {
   "codemirror_mode": {
    "name": "ipython",
    "version": 3
   },
   "file_extension": ".py",
   "mimetype": "text/x-python",
   "name": "python",
   "nbconvert_exporter": "python",
   "pygments_lexer": "ipython3",
   "version": "3.6.3"
  }
 },
 "nbformat": 4,
 "nbformat_minor": 2
}
