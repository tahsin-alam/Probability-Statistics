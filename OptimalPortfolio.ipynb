{
 "cells": [
  {
   "cell_type": "markdown",
   "metadata": {},
   "source": [
    "# Optimal Portfolio\n",
    "\n",
    "## Construction of an optimal portfolio (# 3.13.)\n",
    "\n",
    "We would like to invest \\$10,000 into shares of companies $XX$ and $YY$.\n",
    "\n",
    "- Shares of $XX$ cost \\$20 per share with an expected return $E[XX] =$ \\$1.00, and a standard deviation of \\$0.50\n",
    "- Shares of $YY$ cost \\$50 per share with an expected return $E[YY] =$ \\$2.50, and a standard deviation of \\$1.00\n",
    "\n",
    "In order to maximize the expected return and minimize the risk (standard deviation or variance), is it better to invest \n",
    "\n",
    "(A) all \\$10,000 into $XX$\n",
    "\n",
    "(B) all \\$10,000 into $YY$\n",
    "\n",
    "(C) \\$5,000 in each company?"
   ]
  },
  {
   "cell_type": "code",
   "execution_count": 1,
   "metadata": {
    "collapsed": false
   },
   "outputs": [
    {
     "data": {
      "text/plain": [
       "1.0"
      ]
     },
     "execution_count": 1,
     "metadata": {},
     "output_type": "execute_result"
    }
   ],
   "source": [
    "I = 10_000 # investment\n",
    "XX = 20  # price of share XX\n",
    "E_X = 1.0 # expected return E[XX]\n",
    "STD_X = 0.5 # a standard deviation of E[XX]\n",
    "YY = 50  # price of share YY\n",
    "E_Y = 2.5 # expected return E[YY]\n",
    "STD_Y = 1.0 # a standard deviation of E[YY]"
   ]
  },
  {
   "cell_type": "code",
   "execution_count": 2,
   "metadata": {
    "collapsed": false
   },
   "outputs": [
    {
     "data": {
      "text/plain": [
       "SC (generic function with 1 method)"
      ]
     },
     "execution_count": 2,
     "metadata": {},
     "output_type": "execute_result"
    }
   ],
   "source": [
    "SA(X) = (I/XX)*X # number of shares for option A\n",
    "SB(Y) = (I/YY)*Y # number of shares for option B\n",
    "SC(X,Y) = ((I/(2XX))*X, (I/(2YY))*Y) # number of shares for option C"
   ]
  },
  {
   "cell_type": "code",
   "execution_count": 3,
   "metadata": {
    "collapsed": false
   },
   "outputs": [
    {
     "data": {
      "text/plain": [
       "(500.0,62500.0)"
      ]
     },
     "execution_count": 3,
     "metadata": {},
     "output_type": "execute_result"
    }
   ],
   "source": [
    "# Profit for option A\n",
    "E_A, Var_A = SA(E_X), SA(STD_X)^2"
   ]
  },
  {
   "cell_type": "code",
   "execution_count": 4,
   "metadata": {
    "collapsed": false
   },
   "outputs": [
    {
     "data": {
      "text/plain": [
       "(500.0,40000.0)"
      ]
     },
     "execution_count": 4,
     "metadata": {},
     "output_type": "execute_result"
    }
   ],
   "source": [
    "# Profit for option B\n",
    "E_B, Var_B = SB(E_Y), SB(STD_Y)^2"
   ]
  },
  {
   "cell_type": "code",
   "execution_count": 5,
   "metadata": {
    "collapsed": false
   },
   "outputs": [
    {
     "data": {
      "text/plain": [
       "(500.0,25625.0)"
      ]
     },
     "execution_count": 5,
     "metadata": {},
     "output_type": "execute_result"
    }
   ],
   "source": [
    "# Profit for option C\n",
    "E_C, Var_C = SC(E_X, E_Y) |> sum, map(v->v^2, SC(STD_X, STD_Y)) |> sum"
   ]
  },
  {
   "cell_type": "code",
   "execution_count": 7,
   "metadata": {
    "collapsed": false
   },
   "outputs": [
    {
     "data": {
      "text/plain": [
       "160.0781059358212"
      ]
     },
     "execution_count": 7,
     "metadata": {},
     "output_type": "execute_result"
    }
   ],
   "source": [
    "sqrt(25625)"
   ]
  },
  {
   "cell_type": "markdown",
   "metadata": {},
   "source": [
    "In terms of the expected return, all three portfolios are equivalent. However, Portfolio C, where investment is split between two companies, has the **lowest variance**; therefore, it is the **least risky**."
   ]
  },
  {
   "cell_type": "markdown",
   "metadata": {},
   "source": [
    "## Optimal portfolio, correlated returns (# 3.14.)\n",
    "\n",
    "Suppose now that the individual stock returns $X$ and $Y$ are no longer independent. If the correlation coefficient is $\\rho = 0.4$\n",
    "\n",
    "- How will it change the results of the previous example?\n",
    "- What if they are negatively correlated with $\\rho = -0.2$?\n",
    "\n",
    "Only the volatility of the diversified **portfolio C** changes due to the correlation coefficient."
   ]
  },
  {
   "cell_type": "code",
   "execution_count": 8,
   "metadata": {
    "collapsed": false,
    "scrolled": true
   },
   "outputs": [
    {
     "data": {
      "text/plain": [
       "0.2"
      ]
     },
     "execution_count": 8,
     "metadata": {},
     "output_type": "execute_result"
    }
   ],
   "source": [
    "ρ = 0.4 # correlation coefficient\n",
    "cov_XY = ρ * STD_X * STD_Y # Covariance between stocks X and Y"
   ]
  },
  {
   "cell_type": "code",
   "execution_count": 9,
   "metadata": {
    "collapsed": false
   },
   "outputs": [
    {
     "data": {
      "text/plain": [
       "35625.0"
      ]
     },
     "execution_count": 9,
     "metadata": {},
     "output_type": "execute_result"
    }
   ],
   "source": [
    "# thus the variance of C increases\n",
    "Var_C + 2*prod(SC(1., 1.))*cov_XY"
   ]
  },
  {
   "cell_type": "markdown",
   "metadata": {},
   "source": [
    "Nevertheless, the diversified portfolio C is still optimal. When $X$ and $Y$ are positively correlated, low values of $X$ are likely to accompany low values of $Y$, thus higher risk."
   ]
  },
  {
   "cell_type": "code",
   "execution_count": 10,
   "metadata": {
    "collapsed": false
   },
   "outputs": [
    {
     "data": {
      "text/plain": [
       "-0.1"
      ]
     },
     "execution_count": 10,
     "metadata": {},
     "output_type": "execute_result"
    }
   ],
   "source": [
    "ρ = -0.2 # negative correlation coefficient\n",
    "cov_XY = ρ * STD_X * STD_Y # Covariance between stocks X and Y"
   ]
  },
  {
   "cell_type": "code",
   "execution_count": 11,
   "metadata": {
    "collapsed": false
   },
   "outputs": [
    {
     "data": {
      "text/plain": [
       "20625.0"
      ]
     },
     "execution_count": 11,
     "metadata": {},
     "output_type": "execute_result"
    }
   ],
   "source": [
    "# thus the variance of C decreases\n",
    "Var_C + 2*prod(SC(1., 1.))*cov_XY"
   ]
  },
  {
   "cell_type": "markdown",
   "metadata": {},
   "source": [
    "Diversified portfolios consisting of negatively correlated components are the least risky."
   ]
  },
  {
   "cell_type": "markdown",
   "metadata": {},
   "source": [
    "## Optimizing even further (# 3.15.)\n",
    "\n",
    "What is the most optimal portfolio consisting of shares of $XX$ and $YY$, given their correlation coefficient of $\\rho = -0.2$?\n",
    "\n",
    "Suppose $t$ dollars are invested into $XX$ and $(10,000-t)$ dollars into $YY$, with the resulting profit is $C_t$."
   ]
  },
  {
   "cell_type": "code",
   "execution_count": 12,
   "metadata": {
    "collapsed": false,
    "hide_input": false
   },
   "outputs": [
    {
     "name": "stdout",
     "output_type": "stream",
     "text": [
      "Variance of the optimal portfolio is 19591.8369 $²\n",
      "Portfolio shares: X = 204.1, X = 118.36\n"
     ]
    }
   ],
   "source": [
    "t = 0.:10_000 |> collect\n",
    "a, b = t/20, (10_000-t)/50\n",
    "\n",
    "Var_Ct = (a.^2)*STD_X^2 + (b.^2)*STD_Y^2 + 2.*a.*b.*cov_XY\n",
    "min_Var_Ct, min_Var_Ct_idx = findmin(Var_Ct)\n",
    "\n",
    "println(\"Variance of the optimal portfolio is $min_Var_Ct \\$²\")\n",
    "println(\"Portfolio shares: X = $(a[min_Var_Ct_idx]), X = $(b[min_Var_Ct_idx])\")"
   ]
  },
  {
   "cell_type": "code",
   "execution_count": 13,
   "metadata": {
    "collapsed": false,
    "hide_input": false,
    "scrolled": false
   },
   "outputs": [
    {
     "data": {
      "image/png": "[encoded data removed]",
      "text/plain": [
       "PLplot.PNG(UInt8[0x89,0x50,0x4e,0x47,0x0d,0x0a,0x1a,0x0a,0x00,0x00  …  0x00,0x00,0x49,0x45,0x4e,0x44,0xae,0x42,0x60,0x82])"
      ]
     },
     "execution_count": 13,
     "metadata": {},
     "output_type": "execute_result"
    }
   ],
   "source": [
    "import PLplot\n",
    "PLplot.draw(:pngcairo) do opts\n",
    "    PLplot.plot(t, Var_Ct, typ=:line)\n",
    "    PLplot.labels(\"t, amount invested into XX (\\$)\",\n",
    "                  \"Risk of the portfolio, Var(C#dt#u) (\\$#u2#d)\",\n",
    "                  \"Variance of a diversified portfolio\")\n",
    "    PLplot.abline!(v=t[min_Var_Ct_idx], col=7)\n",
    "end    "
   ]
  }
 ],
 "metadata": {
  "kernelspec": {
   "display_name": "Julia 0.5.0",
   "language": "julia",
   "name": "julia-0.5"
  },
  "language_info": {
   "file_extension": ".jl",
   "mimetype": "application/julia",
   "name": "julia",
   "version": "0.5.0"
  }
 },
 "nbformat": 4,
 "nbformat_minor": 2
}
